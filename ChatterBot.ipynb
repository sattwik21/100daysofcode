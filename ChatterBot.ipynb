{
  "nbformat": 4,
  "nbformat_minor": 0,
  "metadata": {
    "colab": {
      "name": "Untitled0.ipynb",
      "provenance": [],
      "collapsed_sections": [],
      "authorship_tag": "ABX9TyPxjCH5A88jffnpqoobHI+O",
      "include_colab_link": true
    },
    "kernelspec": {
      "name": "python3",
      "display_name": "Python 3"
    }
  },
  "cells": [
    {
      "cell_type": "markdown",
      "metadata": {
        "id": "view-in-github",
        "colab_type": "text"
      },
      "source": [
        "<a href=\"https://colab.research.google.com/github/sattwik21/100daysofcode/blob/master/ChatterBot.ipynb\" target=\"_parent\"><img src=\"https://colab.research.google.com/assets/colab-badge.svg\" alt=\"Open In Colab\"/></a>"
      ]
    },
    {
      "cell_type": "code",
      "metadata": {
        "colab": {
          "base_uri": "https://localhost:8080/"
        },
        "id": "K7USytd7ouW3",
        "outputId": "571c5fe8-7c22-40bb-b2ad-146e2d38fc15"
      },
      "source": [
        "!pip install chatterbot-corpus\r\n",
        "!pip install chatterbot"
      ],
      "execution_count": null,
      "outputs": [
        {
          "output_type": "stream",
          "text": [
            "Requirement already satisfied: chatterbot-corpus in /usr/local/lib/python3.6/dist-packages (1.2.0)\n",
            "Requirement already satisfied: PyYAML<4.0,>=3.12 in /usr/local/lib/python3.6/dist-packages (from chatterbot-corpus) (3.13)\n",
            "Collecting chatterbot\n",
            "\u001b[?25l  Downloading https://files.pythonhosted.org/packages/7c/21/85c2b114bd9dfabdd46ba58fc4519acdaed45d8c70898d40079e37a45e67/ChatterBot-1.0.8-py2.py3-none-any.whl (63kB)\n",
            "\u001b[K     |████████████████████████████████| 71kB 7.4MB/s \n",
            "\u001b[?25hRequirement already satisfied: sqlalchemy<1.4,>=1.3 in /usr/local/lib/python3.6/dist-packages (from chatterbot) (1.3.23)\n",
            "Requirement already satisfied: python-dateutil<2.9,>=2.8 in /usr/local/lib/python3.6/dist-packages (from chatterbot) (2.8.1)\n",
            "Requirement already satisfied: pytz in /usr/local/lib/python3.6/dist-packages (from chatterbot) (2018.9)\n",
            "Collecting mathparse<0.2,>=0.1\n",
            "  Downloading https://files.pythonhosted.org/packages/c3/e5/4910fb85950cb960fcf3f5aabe1c8e55f5c9201788a1c1302b570a7e1f84/mathparse-0.1.2-py3-none-any.whl\n",
            "Requirement already satisfied: six>=1.5 in /usr/local/lib/python3.6/dist-packages (from python-dateutil<2.9,>=2.8->chatterbot) (1.15.0)\n",
            "Installing collected packages: mathparse, chatterbot\n",
            "Successfully installed chatterbot-1.0.8 mathparse-0.1.2\n"
          ],
          "name": "stdout"
        }
      ]
    },
    {
      "cell_type": "code",
      "metadata": {
        "id": "QqRV2ij6pxnz"
      },
      "source": [
        "from chatterbot import ChatBot \r\n",
        "from chatterbot.trainers import ListTrainer "
      ],
      "execution_count": null,
      "outputs": []
    },
    {
      "cell_type": "code",
      "metadata": {
        "id": "D3av2EK9p7ds"
      },
      "source": [
        "bot = ChatBot('Jarvis')\r\n"
      ],
      "execution_count": null,
      "outputs": []
    },
    {
      "cell_type": "code",
      "metadata": {
        "id": "Ws2kODlpp80s"
      },
      "source": [
        "chatbot = ChatBot( \r\n",
        "\t'JARVIS', \r\n",
        "\tlogic_adapters=[ \r\n",
        "\t\t'chatterbot.logic.BestMatch', \r\n",
        "\t\t'chatterbot.logic.TimeLogicAdapter'], \r\n",
        ") \r\n"
      ],
      "execution_count": null,
      "outputs": []
    },
    {
      "cell_type": "code",
      "metadata": {
        "colab": {
          "base_uri": "https://localhost:8080/"
        },
        "id": "4WD9Yje-p88l",
        "outputId": "550016a6-f49b-453e-d56c-2c0f2e9390df"
      },
      "source": [
        "from chatterbot.trainers import ListTrainer \r\n",
        "\r\n",
        "trainer = ListTrainer(bot) \r\n",
        "\r\n",
        "trainer.train([ \r\n",
        "\t'Hi', \r\n",
        "\t'Hello', \r\n",
        "\t'I need roadmap for Competitive Programming', \r\n",
        "\t'I have a query.', \r\n",
        "\t'Please elaborate, your concern', \r\n",
        "\t'How long it will take to become expert in Coding ?', \r\n",
        "\t'It usually depends on the amount of practice.', \r\n",
        "\t'Ok Thanks', \r\n",
        "\t'No Problem! Have a Good Day!'\r\n",
        "]) "
      ],
      "execution_count": null,
      "outputs": [
        {
          "output_type": "stream",
          "text": [
            "List Trainer: [####################] 100%\n"
          ],
          "name": "stdout"
        }
      ]
    },
    {
      "cell_type": "code",
      "metadata": {
        "colab": {
          "base_uri": "https://localhost:8080/"
        },
        "id": "jIWMmT6xp9A0",
        "outputId": "a7e2e4a3-16bf-470e-a1ac-e5e563aaf6ce"
      },
      "source": [
        "response = bot.get_response(\"Good morning!\") \r\n",
        "\r\n",
        "print(response)"
      ],
      "execution_count": null,
      "outputs": [
        {
          "output_type": "stream",
          "text": [
            "Please elaborate, your concern\n"
          ],
          "name": "stdout"
        }
      ]
    },
    {
      "cell_type": "code",
      "metadata": {
        "colab": {
          "base_uri": "https://localhost:8080/"
        },
        "id": "ofJ-Hkxcp9Pa",
        "outputId": "e9c0c9ae-ec35-4bee-90d1-4da0f4bf26ad"
      },
      "source": [
        "from chatterbot.trainers import ChatterBotCorpusTrainer\r\n",
        "# Create a new trainer for the chatbot\r\n",
        "trainer = ChatterBotCorpusTrainer(bot)\r\n",
        "\r\n",
        "# Train the chatbot based on the english corpus\r\n",
        "trainer.train(\"chatterbot.corpus.english\")\r\n",
        "\r\n",
        "# Get a response to an input statement\r\n",
        "chatbot.get_response(\"Hello, how are you today?\")"
      ],
      "execution_count": null,
      "outputs": [
        {
          "output_type": "stream",
          "text": [
            "Training ai.yml: [####################] 100%\n",
            "Training botprofile.yml: [####################] 100%\n",
            "Training computers.yml: [####################] 100%\n",
            "Training conversations.yml: [####################] 100%\n",
            "Training emotion.yml: [####################] 100%\n",
            "Training food.yml: [####################] 100%\n",
            "Training gossip.yml: [####################] 100%\n",
            "Training greetings.yml: [####################] 100%\n",
            "Training health.yml: [####################] 100%\n",
            "Training history.yml: [####################] 100%\n",
            "Training humor.yml: [####################] 100%\n",
            "Training literature.yml: [####################] 100%\n",
            "Training money.yml: [####################] 100%\n",
            "Training movies.yml: [####################] 100%\n",
            "Training politics.yml: [####################] 100%\n",
            "Training psychology.yml: [####################] 100%\n",
            "Training science.yml: [####################] 100%\n",
            "Training sports.yml: [####################] 100%\n",
            "Training trivia.yml: [####################] 100%\n"
          ],
          "name": "stdout"
        },
        {
          "output_type": "execute_result",
          "data": {
            "text/plain": [
              "<Statement text:vineland is a novel by thomas pynchon.>"
            ]
          },
          "metadata": {
            "tags": []
          },
          "execution_count": 19
        }
      ]
    },
    {
      "cell_type": "code",
      "metadata": {
        "id": "mXY67Pyrp9ZM"
      },
      "source": [
        "def rand(text):\r\n",
        "  response = bot.get_response(text) \r\n",
        "  return response"
      ],
      "execution_count": null,
      "outputs": []
    },
    {
      "cell_type": "code",
      "metadata": {
        "id": "e47FruiRp9d-"
      },
      "source": [
        "def oput():\r\n",
        "  s= str(input())\r\n",
        "  if s == 'bye':\r\n",
        "    print(\"bye friend\")\r\n",
        "  else:\r\n",
        "    print(rand(s))\r\n",
        "    oput()\r\n"
      ],
      "execution_count": 30,
      "outputs": []
    },
    {
      "cell_type": "code",
      "metadata": {
        "id": "Ljf-MbTkp9h9"
      },
      "source": [
        "oput()"
      ],
      "execution_count": null,
      "outputs": []
    },
    {
      "cell_type": "code",
      "metadata": {
        "id": "Pg8Mu5pbp9oE"
      },
      "source": [
        ""
      ],
      "execution_count": null,
      "outputs": []
    }
  ]
}